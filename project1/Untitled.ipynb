{
 "cells": [
  {
   "cell_type": "code",
   "execution_count": 145,
   "id": "18f7d330",
   "metadata": {},
   "outputs": [],
   "source": [
    "import numpy as np\n",
    "import cv2"
   ]
  },
  {
   "cell_type": "code",
   "execution_count": 146,
   "id": "c2a1760c",
   "metadata": {},
   "outputs": [],
   "source": [
    "img = cv2.imread('./images/0021.jpg')\n",
    "\n",
    "cv2.imshow('image',img)\n",
    "cv2.waitKey(0)\n",
    "cv2.destroyAllWindows()"
   ]
  },
  {
   "cell_type": "code",
   "execution_count": 147,
   "id": "955135a8",
   "metadata": {},
   "outputs": [],
   "source": [
    "face_cascade = cv2.CascadeClassifier('./cascade_classifier/haarcascade_frontalface_default.xml')"
   ]
  },
  {
   "cell_type": "code",
   "execution_count": 148,
   "id": "8962bb10",
   "metadata": {},
   "outputs": [],
   "source": [
    "faces,num_detection = face_cascade.detectMultiScale2(img)"
   ]
  },
  {
   "cell_type": "code",
   "execution_count": 149,
   "id": "bf8840b4",
   "metadata": {},
   "outputs": [
    {
     "name": "stdout",
     "output_type": "stream",
     "text": [
      "()\n"
     ]
    }
   ],
   "source": [
    "print(faces)"
   ]
  },
  {
   "cell_type": "code",
   "execution_count": 150,
   "id": "5af2c772",
   "metadata": {},
   "outputs": [
    {
     "name": "stdout",
     "output_type": "stream",
     "text": [
      "()\n"
     ]
    }
   ],
   "source": [
    "print(num_detection)"
   ]
  },
  {
   "cell_type": "code",
   "execution_count": 151,
   "id": "73dbef3a",
   "metadata": {},
   "outputs": [],
   "source": [
    "pt1 = (80, 5)\n",
    "pt2 = (80+95, 27+95)\n",
    "cv2.rectangle(img,pt1,pt2,(0,255,0))\n",
    "\n",
    "cv2.imshow('face detection',img)\n",
    "cv2.waitKey(0)\n",
    "cv2.destroyAllWindows()"
   ]
  },
  {
   "cell_type": "code",
   "execution_count": 152,
   "id": "6ba7f35a",
   "metadata": {},
   "outputs": [],
   "source": [
    "cx = 80 + 95//2\n",
    "cy = 27 + 95//2\n",
    "r = 95//2\n",
    "\n",
    "cv2.circle(img,(cx,cy),r,(0,255,255),2)\n",
    "cv2.imshow('face detection circle',img)\n",
    "cv2.waitKey(0)\n",
    "cv2.destroyAllWindows()"
   ]
  },
  {
   "cell_type": "code",
   "execution_count": 293,
   "id": "854b775b",
   "metadata": {},
   "outputs": [],
   "source": [
    "img = cv2.imread('./images/friends.jpg')\n",
    "\n",
    "cv2.imshow('image',img)\n",
    "cv2.waitKey(0)\n",
    "cv2.destroyAllWindows()"
   ]
  },
  {
   "cell_type": "code",
   "execution_count": 294,
   "id": "b7bc6287",
   "metadata": {},
   "outputs": [],
   "source": [
    "face_cascade = cv2.CascadeClassifier('./cascade_classifier/haarcascade_frontalface_default.xml')\n",
    "\n",
    "faces,num_detection = face_cascade.detectMultiScale2(img,minNeighbors=8)\n",
    "for x,y,w,h in faces:\n",
    "    cv2.rectangle(img,(x,y),(x+w,y+h),(0,255,0))\n",
    "\n",
    "cv2.imshow('face detection',img)\n",
    "cv2.waitKey(0)\n",
    "cv2.destroyAllWindows()"
   ]
  },
  {
   "cell_type": "code",
   "execution_count": 295,
   "id": "69087f32",
   "metadata": {},
   "outputs": [
    {
     "name": "stdout",
     "output_type": "stream",
     "text": [
      "[69 58 65]\n"
     ]
    }
   ],
   "source": [
    "print(num_detection)"
   ]
  },
  {
   "cell_type": "code",
   "execution_count": 296,
   "id": "57d2acf9",
   "metadata": {},
   "outputs": [],
   "source": [
    "img = cv2.imread('./images/friends.jpg')\n",
    "\n",
    "cv2.imshow('image',img)\n",
    "cv2.waitKey(0)\n",
    "cv2.destroyAllWindows()"
   ]
  },
  {
   "cell_type": "code",
   "execution_count": 297,
   "id": "e8f7ec8f",
   "metadata": {},
   "outputs": [],
   "source": [
    "face_cascade = cv2.CascadeClassifier('./cascade_classifier/haarcascade_frontalface_default.xml')\n",
    "eye_cascade = cv2.CascadeClassifier('./cascade_classifier/haarcascade_eye.xml')"
   ]
  },
  {
   "cell_type": "code",
   "execution_count": 298,
   "id": "a3318d65",
   "metadata": {},
   "outputs": [],
   "source": [
    "faces,num_detection_face = face_cascade.detectMultiScale2(img,minNeighbors=8)\n",
    "for x,y,w,h in faces:\n",
    "    cv2.rectangle(img,(x,y),(x+w,y+h),(0,255,0))\n",
    "    face_roi = img[y:y+h,x:x+h]\n",
    "    eyes,num_detection_eyes = eye_cascade.detectMultiScale2(face_roi)\n",
    "    for ex, ey, ew, eh in eyes:\n",
    "        cx = x+ex+ew//2\n",
    "        cy = y+ey+eh//2\n",
    "        r = eh//2\n",
    "        cv2.circle(img,(cx,cy),r,(255,0,255),2)\n",
    "        \n",
    "cv2.imshow('face eye detection',img)\n",
    "cv2.waitKey(0)\n",
    "cv2.destroyAllWindows()"
   ]
  },
  {
   "cell_type": "code",
   "execution_count": 301,
   "id": "5faa0c80",
   "metadata": {},
   "outputs": [],
   "source": [
    "img = cv2.imread('./images/friends.jpg')\n",
    "\n",
    "cv2.imshow('image',img)\n",
    "cv2.waitKey(0)\n",
    "cv2.destroyAllWindows()"
   ]
  },
  {
   "cell_type": "code",
   "execution_count": 302,
   "id": "d8b7ab58",
   "metadata": {},
   "outputs": [],
   "source": [
    "face_cascade = cv2.CascadeClassifier('./cascade_classifier/haarcascade_frontalface_default.xml')\n",
    "eye_cascade = cv2.CascadeClassifier('./cascade_classifier/haarcascade_eye.xml')\n",
    "smile_cascade = cv2.CascadeClassifier('./cascade_classifier/haarcascade_smile.xml')\n",
    "\n",
    "faces,num_detection_face = face_cascade.detectMultiScale2(img,minNeighbors=8)\n",
    "for x,y,w,h in faces:\n",
    "    face_roi = img[y:y+h,x:x+h].copy()\n",
    "    cv2.rectangle(img,(x,y),(x+w,y+h),(0,255,0))\n",
    "    \n",
    "    eyes,num_detection_eyes = eye_cascade.detectMultiScale2(face_roi)\n",
    "    for ex, ey, ew, eh in eyes:\n",
    "        cx = x+ex+ew//2\n",
    "        cy = y+ey+eh//2\n",
    "        r = eh//2\n",
    "        cv2.circle(img,(cx,cy),r,(255,0,255),2)\n",
    "        \n",
    "    smiles,num_detection_smile = smile_cascade.detectMultiScale2(face_roi)\n",
    "    for sx, sy, sw, sh in smiles:\n",
    "        cv2.rectangle(img,(x+sx,y+sy),(x+sx+sw,y+sy+sh),(255,0,0),2)\n",
    "        \n",
    "cv2.imshow('face eye smiles detection',img)\n",
    "cv2.waitKey(0)\n",
    "cv2.destroyAllWindows()"
   ]
  },
  {
   "cell_type": "code",
   "execution_count": null,
   "id": "08453f64",
   "metadata": {},
   "outputs": [],
   "source": []
  },
  {
   "cell_type": "code",
   "execution_count": null,
   "id": "f69a6b41",
   "metadata": {},
   "outputs": [],
   "source": []
  }
 ],
 "metadata": {
  "kernelspec": {
   "display_name": "Python 3 (ipykernel)",
   "language": "python",
   "name": "python3"
  },
  "language_info": {
   "codemirror_mode": {
    "name": "ipython",
    "version": 3
   },
   "file_extension": ".py",
   "mimetype": "text/x-python",
   "name": "python",
   "nbconvert_exporter": "python",
   "pygments_lexer": "ipython3",
   "version": "3.9.12"
  }
 },
 "nbformat": 4,
 "nbformat_minor": 5
}
